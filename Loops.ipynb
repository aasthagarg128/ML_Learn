{
  "nbformat": 4,
  "nbformat_minor": 0,
  "metadata": {
    "colab": {
      "provenance": [],
      "authorship_tag": "ABX9TyOROzSqZTZWcMTTWP+jBl5B",
      "include_colab_link": true
    },
    "kernelspec": {
      "name": "python3",
      "display_name": "Python 3"
    },
    "language_info": {
      "name": "python"
    }
  },
  "cells": [
    {
      "cell_type": "markdown",
      "metadata": {
        "id": "view-in-github",
        "colab_type": "text"
      },
      "source": [
        "<a href=\"https://colab.research.google.com/github/aasthagarg128/ML_Learn/blob/main/Loops.ipynb\" target=\"_parent\"><img src=\"https://colab.research.google.com/assets/colab-badge.svg\" alt=\"Open In Colab\"/></a>"
      ]
    },
    {
      "cell_type": "markdown",
      "source": [
        "For Loop"
      ],
      "metadata": {
        "id": "zjLDGEd-i8rQ"
      }
    },
    {
      "cell_type": "code",
      "execution_count": null,
      "metadata": {
        "colab": {
          "base_uri": "https://localhost:8080/"
        },
        "id": "4T0CcV6eicb8",
        "outputId": "aa0e6abe-e1f5-446e-b198-ca61c8654552"
      },
      "outputs": [
        {
          "name": "stdout",
          "output_type": "stream",
          "text": [
            "Enter the price of the laptop: 20000\n",
            "Enter the price of the laptop: 30000\n",
            "Enter the price of the laptop: 40000\n",
            "Enter the price of the laptop: 50000\n",
            "Enter the price of the laptop: 60000\n"
          ]
        }
      ],
      "source": [
        "lap1=int(input('Enter the price of the laptop: '))\n",
        "lap2=int(input('Enter the price of the laptop: '))\n",
        "lap3=int(input('Enter the price of the laptop: '))\n",
        "lap4=int(input('Enter the price of the laptop: '))\n",
        "lap5=int(input('Enter the price of the laptop: '))"
      ]
    },
    {
      "cell_type": "code",
      "source": [
        "for i in range(5):  # 0 to 4 index\n",
        "  laptop_price=int(input('Enter the price of the laptop: '))"
      ],
      "metadata": {
        "colab": {
          "base_uri": "https://localhost:8080/"
        },
        "id": "NIhcQomxjU5V",
        "outputId": "99ac4c15-717f-450e-d1e6-8a223e985d81"
      },
      "execution_count": null,
      "outputs": [
        {
          "name": "stdout",
          "output_type": "stream",
          "text": [
            "Enter the price of the laptop: 20000\n",
            "Enter the price of the laptop: 30000\n",
            "Enter the price of the laptop: 40000\n",
            "Enter the price of the laptop: 50000\n",
            "Enter the price of the laptop: 60000\n"
          ]
        }
      ]
    },
    {
      "cell_type": "code",
      "source": [
        "numbers=[50,100,150,200]\n",
        "\n",
        "print(numbers)\n",
        "\n",
        "\n",
        "\n",
        "print(numbers[0])\n",
        "print(numbers[1])\n",
        "print(numbers[2])\n",
        "print(numbers[3])\n",
        "\n",
        "\n",
        "\n",
        "\n",
        "\n",
        "for i in numbers:\n",
        "  print(i)     #i will be equal to data in numbers[0 to 3]  i=50,100,150,200\n"
      ],
      "metadata": {
        "colab": {
          "base_uri": "https://localhost:8080/"
        },
        "id": "NLnvQeU5ka20",
        "outputId": "2a34b29a-10a5-4584-92d3-fc897650802f"
      },
      "execution_count": null,
      "outputs": [
        {
          "output_type": "stream",
          "name": "stdout",
          "text": [
            "[50, 100, 150, 200]\n",
            "50\n",
            "100\n",
            "150\n",
            "200\n",
            "50\n",
            "100\n",
            "150\n",
            "200\n"
          ]
        }
      ]
    },
    {
      "cell_type": "markdown",
      "source": [
        "While Loop"
      ],
      "metadata": {
        "id": "KpGuhTBFk7ut"
      }
    },
    {
      "cell_type": "code",
      "source": [
        "i=0\n",
        "\n",
        "while i<10:\n",
        "  print(i)\n",
        "  i+=1"
      ],
      "metadata": {
        "colab": {
          "base_uri": "https://localhost:8080/"
        },
        "id": "3Lztgq_wk_e4",
        "outputId": "b6af3722-0837-401c-e1f9-1cf1d2c2495e"
      },
      "execution_count": null,
      "outputs": [
        {
          "output_type": "stream",
          "name": "stdout",
          "text": [
            "0\n",
            "1\n",
            "2\n",
            "3\n",
            "4\n",
            "5\n",
            "6\n",
            "7\n",
            "8\n",
            "9\n"
          ]
        }
      ]
    }
  ]
}