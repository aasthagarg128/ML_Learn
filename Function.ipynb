{
  "nbformat": 4,
  "nbformat_minor": 0,
  "metadata": {
    "colab": {
      "provenance": [],
      "toc_visible": true,
      "authorship_tag": "ABX9TyMUvXQ9WKUhHIFOOPMrj5X1",
      "include_colab_link": true
    },
    "kernelspec": {
      "name": "python3",
      "display_name": "Python 3"
    },
    "language_info": {
      "name": "python"
    }
  },
  "cells": [
    {
      "cell_type": "markdown",
      "metadata": {
        "id": "view-in-github",
        "colab_type": "text"
      },
      "source": [
        "<a href=\"https://colab.research.google.com/github/aasthagarg128/ML_Learn/blob/main/Function.ipynb\" target=\"_parent\"><img src=\"https://colab.research.google.com/assets/colab-badge.svg\" alt=\"Open In Colab\"/></a>"
      ]
    },
    {
      "cell_type": "markdown",
      "source": [
        "Functions:\n",
        "Function is a block of code that can be reused in a program\n",
        "\n",
        "\n",
        "\n",
        "Example 1\n",
        "Find the Factorial  of a given number\n",
        "factorial of 5 = 5 X 4 X 3 X 2 X 1 = 120"
      ],
      "metadata": {
        "id": "HCwO5NURmMaA"
      }
    },
    {
      "cell_type": "code",
      "execution_count": 1,
      "metadata": {
        "colab": {
          "base_uri": "https://localhost:8080/"
        },
        "id": "UKXe_RblmLe9",
        "outputId": "338b2a0b-4042-4d8e-d71c-28aa5e63c257"
      },
      "outputs": [
        {
          "output_type": "stream",
          "name": "stdout",
          "text": [
            "Enter a number to find the factorial: 5\n",
            "The factorial of  5 is  120\n"
          ]
        }
      ],
      "source": [
        "number = int(input('Enter a number to find the factorial: '))\n",
        "\n",
        "factorial=1\n",
        "if number==0:\n",
        "  print('The Factorial of 0 is 1')\n",
        "else:\n",
        "  for i in range(1,number+1):\n",
        "    factorial*=i\n",
        "  print('The factorial of ',number,'is ',factorial)"
      ]
    },
    {
      "cell_type": "markdown",
      "source": [
        "Factorial Function\n"
      ],
      "metadata": {
        "id": "tNfqmXuyoRWf"
      }
    },
    {
      "cell_type": "code",
      "source": [
        "def factorial_value(num):\n",
        "  factorial=1\n",
        "\n",
        "  if num==0:\n",
        "    return factorial\n",
        "  else:\n",
        "    for i in range(1,num+1):\n",
        "      factorial*=i\n",
        "    return factorial\n"
      ],
      "metadata": {
        "id": "08xfQQ0JoW0c"
      },
      "execution_count": 17,
      "outputs": []
    },
    {
      "cell_type": "code",
      "source": [
        "print(factorial_value(10))"
      ],
      "metadata": {
        "id": "Z8Zjpd--pNJC",
        "outputId": "eb48e049-f446-41e5-9bfe-1a76b10f2eb3",
        "colab": {
          "base_uri": "https://localhost:8080/"
        }
      },
      "execution_count": 18,
      "outputs": [
        {
          "output_type": "stream",
          "name": "stdout",
          "text": [
            "3628800\n"
          ]
        }
      ]
    },
    {
      "cell_type": "code",
      "source": [
        "print(factorial_value(5))"
      ],
      "metadata": {
        "id": "MaAp3nhIqDHa",
        "outputId": "bec59276-a25e-41dd-9c77-dd5f78229a25",
        "colab": {
          "base_uri": "https://localhost:8080/"
        }
      },
      "execution_count": 19,
      "outputs": [
        {
          "output_type": "stream",
          "name": "stdout",
          "text": [
            "120\n"
          ]
        }
      ]
    }
  ]
}