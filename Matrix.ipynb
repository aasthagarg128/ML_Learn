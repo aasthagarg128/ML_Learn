{
  "nbformat": 4,
  "nbformat_minor": 0,
  "metadata": {
    "colab": {
      "provenance": [],
      "authorship_tag": "ABX9TyM9flKKdMPEd/UYR9rJ8AbK",
      "include_colab_link": true
    },
    "kernelspec": {
      "name": "python3",
      "display_name": "Python 3"
    },
    "language_info": {
      "name": "python"
    }
  },
  "cells": [
    {
      "cell_type": "markdown",
      "metadata": {
        "id": "view-in-github",
        "colab_type": "text"
      },
      "source": [
        "<a href=\"https://colab.research.google.com/github/aasthagarg128/ML_Learn/blob/main/Matrix.ipynb\" target=\"_parent\"><img src=\"https://colab.research.google.com/assets/colab-badge.svg\" alt=\"Open In Colab\"/></a>"
      ]
    },
    {
      "cell_type": "code",
      "execution_count": null,
      "metadata": {
        "id": "-BO2FTPvrF43"
      },
      "outputs": [],
      "source": [
        "import numpy as np\n"
      ]
    },
    {
      "cell_type": "markdown",
      "source": [
        "Creaing a Matrix using Numpy"
      ],
      "metadata": {
        "id": "1iVo1sREtciI"
      }
    },
    {
      "cell_type": "code",
      "source": [
        "mat_1 = np.array([[2,3],[6,7]])\n",
        "print(mat_1)"
      ],
      "metadata": {
        "colab": {
          "base_uri": "https://localhost:8080/"
        },
        "id": "qghzf05athb9",
        "outputId": "7a82fdc0-68a2-4de7-97ac-d59b5b754a68"
      },
      "execution_count": null,
      "outputs": [
        {
          "output_type": "stream",
          "name": "stdout",
          "text": [
            "[[2 3]\n",
            " [6 7]]\n"
          ]
        }
      ]
    },
    {
      "cell_type": "code",
      "source": [
        "mat_1.shape\n"
      ],
      "metadata": {
        "colab": {
          "base_uri": "https://localhost:8080/"
        },
        "id": "DtvJQm6Ftq1J",
        "outputId": "66e00ccf-94d2-42fd-94b2-c407574d27d9"
      },
      "execution_count": null,
      "outputs": [
        {
          "output_type": "execute_result",
          "data": {
            "text/plain": [
              "(2, 2)"
            ]
          },
          "metadata": {},
          "execution_count": 4
        }
      ]
    },
    {
      "cell_type": "code",
      "source": [
        "mat_2 = np.array([[10,35,45],[50,64,80],[20,15,90]])\n",
        "print(mat_2)"
      ],
      "metadata": {
        "colab": {
          "base_uri": "https://localhost:8080/"
        },
        "id": "-wVr847mt0_r",
        "outputId": "cdc64f59-9195-4ece-8544-23797ffa9856"
      },
      "execution_count": null,
      "outputs": [
        {
          "output_type": "stream",
          "name": "stdout",
          "text": [
            "[[10 35 45]\n",
            " [50 64 80]\n",
            " [20 15 90]]\n"
          ]
        }
      ]
    },
    {
      "cell_type": "code",
      "source": [
        "mat_2.shape"
      ],
      "metadata": {
        "colab": {
          "base_uri": "https://localhost:8080/"
        },
        "id": "WUfRstMcuGNf",
        "outputId": "a62fc217-1764-4a93-874f-fcb11d2f7c3b"
      },
      "execution_count": null,
      "outputs": [
        {
          "output_type": "execute_result",
          "data": {
            "text/plain": [
              "(3, 3)"
            ]
          },
          "metadata": {},
          "execution_count": 7
        }
      ]
    },
    {
      "cell_type": "markdown",
      "source": [
        "Creating matrices with Random Values"
      ],
      "metadata": {
        "id": "7HffL0xvuMfe"
      }
    },
    {
      "cell_type": "code",
      "source": [
        "random_mat = np.random.rand(3,3 )\n",
        "print(random_mat)"
      ],
      "metadata": {
        "colab": {
          "base_uri": "https://localhost:8080/"
        },
        "id": "bXUH0n2WuKcr",
        "outputId": "bee5549d-6f5e-46c7-e965-5aebe495f09e"
      },
      "execution_count": null,
      "outputs": [
        {
          "output_type": "stream",
          "name": "stdout",
          "text": [
            "[[0.52720141 0.25727046 0.88851698]\n",
            " [0.61951721 0.52787942 0.46701176]\n",
            " [0.64567004 0.08541183 0.48460404]]\n"
          ]
        }
      ]
    },
    {
      "cell_type": "markdown",
      "source": [
        "Creating matrices with Random Integers"
      ],
      "metadata": {
        "id": "tPgugxc7umlM"
      }
    },
    {
      "cell_type": "code",
      "source": [
        "# creating matrix with random integer\n",
        "\n",
        "random_int_mat = np.random.randint(100, size=(4,5))\n",
        "print(random_int_mat)"
      ],
      "metadata": {
        "colab": {
          "base_uri": "https://localhost:8080/"
        },
        "id": "3r0QJOIfui5T",
        "outputId": "a57a6f41-644e-429f-ab19-1dcb5defe209"
      },
      "execution_count": null,
      "outputs": [
        {
          "output_type": "stream",
          "name": "stdout",
          "text": [
            "[[38 50 29 84 11]\n",
            " [78 32 52 66 82]\n",
            " [89  2 11  7 66]\n",
            " [15 44 87 83 19]]\n"
          ]
        }
      ]
    },
    {
      "cell_type": "markdown",
      "source": [
        "Creating matrices with all values as 1"
      ],
      "metadata": {
        "id": "SSCsT_1dvSVG"
      }
    },
    {
      "cell_type": "code",
      "source": [
        "mat_3 = np.ones((2,3))\n",
        "print(mat_3)"
      ],
      "metadata": {
        "colab": {
          "base_uri": "https://localhost:8080/"
        },
        "id": "yPicbkLBvOq2",
        "outputId": "1e1089b1-b31b-4cb2-b33b-cadc3f0a2d49"
      },
      "execution_count": null,
      "outputs": [
        {
          "output_type": "stream",
          "name": "stdout",
          "text": [
            "[[1. 1. 1.]\n",
            " [1. 1. 1.]]\n"
          ]
        }
      ]
    },
    {
      "cell_type": "code",
      "source": [
        "mat_3 = np.ones((6,6) , dtype=int)\n",
        "print(mat_3)"
      ],
      "metadata": {
        "colab": {
          "base_uri": "https://localhost:8080/"
        },
        "id": "twFbXH2QveHZ",
        "outputId": "0f187e89-7c25-4b03-855f-1582aff41ce7"
      },
      "execution_count": null,
      "outputs": [
        {
          "output_type": "stream",
          "name": "stdout",
          "text": [
            "[[1 1 1 1 1 1]\n",
            " [1 1 1 1 1 1]\n",
            " [1 1 1 1 1 1]\n",
            " [1 1 1 1 1 1]\n",
            " [1 1 1 1 1 1]\n",
            " [1 1 1 1 1 1]]\n"
          ]
        }
      ]
    },
    {
      "cell_type": "markdown",
      "source": [
        "Null  Matrixor Zero Matrix"
      ],
      "metadata": {
        "id": "Gqd9hvxuvyrD"
      }
    },
    {
      "cell_type": "code",
      "source": [
        "null_mat = np.zeros((4,4))\n",
        "print(null_mat)"
      ],
      "metadata": {
        "colab": {
          "base_uri": "https://localhost:8080/"
        },
        "id": "3B8IAAxlvrR4",
        "outputId": "74b1466a-b161-40e5-fcf4-476138fd65f0"
      },
      "execution_count": null,
      "outputs": [
        {
          "output_type": "stream",
          "name": "stdout",
          "text": [
            "[[0. 0. 0. 0.]\n",
            " [0. 0. 0. 0.]\n",
            " [0. 0. 0. 0.]\n",
            " [0. 0. 0. 0.]]\n"
          ]
        }
      ]
    },
    {
      "cell_type": "code",
      "source": [
        "null_mat = np.zeros((6,6), dtype=int)\n",
        "print(null_mat)"
      ],
      "metadata": {
        "colab": {
          "base_uri": "https://localhost:8080/"
        },
        "id": "NF1vvNCav_z7",
        "outputId": "aa97037a-055e-4d38-ea4d-9a244a04f548"
      },
      "execution_count": null,
      "outputs": [
        {
          "output_type": "stream",
          "name": "stdout",
          "text": [
            "[[0 0 0 0 0 0]\n",
            " [0 0 0 0 0 0]\n",
            " [0 0 0 0 0 0]\n",
            " [0 0 0 0 0 0]\n",
            " [0 0 0 0 0 0]\n",
            " [0 0 0 0 0 0]]\n"
          ]
        }
      ]
    },
    {
      "cell_type": "markdown",
      "source": [
        "Identity Matrix"
      ],
      "metadata": {
        "id": "kMmaKIGkwIwv"
      }
    },
    {
      "cell_type": "code",
      "source": [
        "identity_mat  =np.eye(3,3)\n",
        "print(identity_mat)"
      ],
      "metadata": {
        "colab": {
          "base_uri": "https://localhost:8080/"
        },
        "id": "z9rIgFevwFwc",
        "outputId": "368e93ff-629d-473a-8ee2-b1b7c816f6aa"
      },
      "execution_count": null,
      "outputs": [
        {
          "output_type": "stream",
          "name": "stdout",
          "text": [
            "[[1. 0. 0.]\n",
            " [0. 1. 0.]\n",
            " [0. 0. 1.]]\n"
          ]
        }
      ]
    },
    {
      "cell_type": "code",
      "source": [
        "iden_mat2 = np.eye(5,5)\n",
        "print(iden_mat2)"
      ],
      "metadata": {
        "colab": {
          "base_uri": "https://localhost:8080/"
        },
        "id": "vKZlL4wl7kdO",
        "outputId": "2debfc2c-4b1e-4028-8437-ef0e958ffe5a"
      },
      "execution_count": null,
      "outputs": [
        {
          "output_type": "stream",
          "name": "stdout",
          "text": [
            "[[1. 0. 0. 0. 0.]\n",
            " [0. 1. 0. 0. 0.]\n",
            " [0. 0. 1. 0. 0.]\n",
            " [0. 0. 0. 1. 0.]\n",
            " [0. 0. 0. 0. 1.]]\n"
          ]
        }
      ]
    },
    {
      "cell_type": "markdown",
      "source": [
        "Transpose of a Matrix"
      ],
      "metadata": {
        "id": "wb9QgKzb70wV"
      }
    },
    {
      "cell_type": "code",
      "source": [
        "# matrixwith random values\n",
        "\n",
        "a=np.random.randint(100, size=(4,5))\n",
        "print(a)"
      ],
      "metadata": {
        "colab": {
          "base_uri": "https://localhost:8080/"
        },
        "id": "R_QFdHuf7z1z",
        "outputId": "1f5bb0de-0075-47f7-96eb-2df171c45a95"
      },
      "execution_count": null,
      "outputs": [
        {
          "output_type": "stream",
          "name": "stdout",
          "text": [
            "[[88 86 61 69 43]\n",
            " [43 88 31 96 26]\n",
            " [21 72 99 54 38]\n",
            " [49 18 60  3 71]]\n"
          ]
        }
      ]
    },
    {
      "cell_type": "code",
      "source": [
        "transpose_a = np.transpose(a)\n",
        "print(transpose_a)"
      ],
      "metadata": {
        "colab": {
          "base_uri": "https://localhost:8080/"
        },
        "id": "mW6BfnB28IOR",
        "outputId": "5fc01615-4c3f-4db7-dcfb-c09c5fc04bc5"
      },
      "execution_count": null,
      "outputs": [
        {
          "output_type": "stream",
          "name": "stdout",
          "text": [
            "[[88 43 21 49]\n",
            " [86 88 72 18]\n",
            " [61 31 99 60]\n",
            " [69 96 54  3]\n",
            " [43 26 38 71]]\n"
          ]
        }
      ]
    },
    {
      "cell_type": "markdown",
      "source": [
        "**Matrix Addition**\n",
        "\n",
        "\n",
        "Two Matrices can be added if and only ifthey have the same shape\n",
        "\n"
      ],
      "metadata": {
        "id": "_2PBFA27-OQf"
      }
    },
    {
      "cell_type": "code",
      "source": [
        "# Creating two matrices\n",
        "\n",
        "A = np.array([[2,3],[4,5]])\n",
        "B = np.array([[6,7],[8,9]])"
      ],
      "metadata": {
        "id": "hd5CV4ts8QGa"
      },
      "execution_count": null,
      "outputs": []
    },
    {
      "cell_type": "code",
      "source": [
        "print(A)\n",
        "print(B)"
      ],
      "metadata": {
        "colab": {
          "base_uri": "https://localhost:8080/"
        },
        "id": "Pr4ENB7P-_8T",
        "outputId": "07533d55-72b8-4b8b-c877-7f3d3358b29b"
      },
      "execution_count": null,
      "outputs": [
        {
          "output_type": "stream",
          "name": "stdout",
          "text": [
            "[[2 3]\n",
            " [4 5]]\n",
            "[[6 7]\n",
            " [8 9]]\n"
          ]
        }
      ]
    },
    {
      "cell_type": "code",
      "source": [
        "print(A.shape)\n",
        "print(B.shape)"
      ],
      "metadata": {
        "colab": {
          "base_uri": "https://localhost:8080/"
        },
        "id": "14vDv7yy_B4x",
        "outputId": "0abcf1e3-d513-4b2e-aba7-bb0a034a352a"
      },
      "execution_count": null,
      "outputs": [
        {
          "output_type": "stream",
          "name": "stdout",
          "text": [
            "(2, 2)\n",
            "(2, 2)\n"
          ]
        }
      ]
    },
    {
      "cell_type": "markdown",
      "source": [
        "Adding two matrices\n"
      ],
      "metadata": {
        "id": "FreWg9SD_TZn"
      }
    },
    {
      "cell_type": "code",
      "source": [
        "sum = A+B\n",
        "print(sum)"
      ],
      "metadata": {
        "colab": {
          "base_uri": "https://localhost:8080/"
        },
        "id": "j0M3RrUg_KFa",
        "outputId": "4b7fcfb8-c9c1-4a3a-94a8-1903c77c8a62"
      },
      "execution_count": null,
      "outputs": [
        {
          "output_type": "stream",
          "name": "stdout",
          "text": [
            "[[ 8 10]\n",
            " [12 14]]\n"
          ]
        }
      ]
    },
    {
      "cell_type": "code",
      "source": [
        "# creating two matrices with random values\n",
        "mat1 = np.random.randint(10, size=(3,3))\n",
        "mat2 = np.random.randint(20, size=(3,3))\n"
      ],
      "metadata": {
        "id": "pfwU-8n0_ZRB"
      },
      "execution_count": null,
      "outputs": []
    },
    {
      "cell_type": "code",
      "source": [
        "print(mat1)\n",
        "print(mat2)"
      ],
      "metadata": {
        "colab": {
          "base_uri": "https://localhost:8080/"
        },
        "id": "bvAPB4sO_zgD",
        "outputId": "43e34622-030c-4940-9173-641f886e422e"
      },
      "execution_count": null,
      "outputs": [
        {
          "output_type": "stream",
          "name": "stdout",
          "text": [
            "[[2 2 0]\n",
            " [1 9 2]\n",
            " [5 8 1]]\n",
            "[[10 11 17]\n",
            " [15  8  6]\n",
            " [ 3  0 14]]\n"
          ]
        }
      ]
    },
    {
      "cell_type": "code",
      "source": [
        "print(mat1+mat2)"
      ],
      "metadata": {
        "colab": {
          "base_uri": "https://localhost:8080/"
        },
        "id": "BwZSfg-8_3zy",
        "outputId": "dcd2a252-20f4-4ad6-8c9c-d218b461ed5d"
      },
      "execution_count": null,
      "outputs": [
        {
          "output_type": "stream",
          "name": "stdout",
          "text": [
            "[[12 13 17]\n",
            " [16 17  8]\n",
            " [ 8  8 15]]\n"
          ]
        }
      ]
    },
    {
      "cell_type": "code",
      "source": [
        "sum = np.add(mat1,mat2)\n",
        "print(sum)"
      ],
      "metadata": {
        "colab": {
          "base_uri": "https://localhost:8080/"
        },
        "id": "L4Wzo43RAVE9",
        "outputId": "eb783842-dd5b-451a-f708-bb235b34a822"
      },
      "execution_count": null,
      "outputs": [
        {
          "output_type": "stream",
          "name": "stdout",
          "text": [
            "[[12 13 17]\n",
            " [16 17  8]\n",
            " [ 8  8 15]]\n"
          ]
        }
      ]
    },
    {
      "cell_type": "code",
      "source": [
        "# creating two matrices with random values\n",
        "m1 = np.random.randint(10, size=(3,3))\n",
        "m2 = np.random.randint(20, size=(3,4))\n",
        "sum = m1+m2"
      ],
      "metadata": {
        "colab": {
          "base_uri": "https://localhost:8080/",
          "height": 176
        },
        "id": "eeag4824AbhZ",
        "outputId": "1a340a6f-2209-44cf-9180-bf21a5e8f7b5"
      },
      "execution_count": null,
      "outputs": [
        {
          "output_type": "error",
          "ename": "ValueError",
          "evalue": "operands could not be broadcast together with shapes (3,3) (3,4) ",
          "traceback": [
            "\u001b[0;31m---------------------------------------------------------------------------\u001b[0m",
            "\u001b[0;31mValueError\u001b[0m                                Traceback (most recent call last)",
            "\u001b[0;32m<ipython-input-32-5ed3390a2f7b>\u001b[0m in \u001b[0;36m<cell line: 0>\u001b[0;34m()\u001b[0m\n\u001b[1;32m      2\u001b[0m \u001b[0mm1\u001b[0m \u001b[0;34m=\u001b[0m \u001b[0mnp\u001b[0m\u001b[0;34m.\u001b[0m\u001b[0mrandom\u001b[0m\u001b[0;34m.\u001b[0m\u001b[0mrandint\u001b[0m\u001b[0;34m(\u001b[0m\u001b[0;36m10\u001b[0m\u001b[0;34m,\u001b[0m \u001b[0msize\u001b[0m\u001b[0;34m=\u001b[0m\u001b[0;34m(\u001b[0m\u001b[0;36m3\u001b[0m\u001b[0;34m,\u001b[0m\u001b[0;36m3\u001b[0m\u001b[0;34m)\u001b[0m\u001b[0;34m)\u001b[0m\u001b[0;34m\u001b[0m\u001b[0;34m\u001b[0m\u001b[0m\n\u001b[1;32m      3\u001b[0m \u001b[0mm2\u001b[0m \u001b[0;34m=\u001b[0m \u001b[0mnp\u001b[0m\u001b[0;34m.\u001b[0m\u001b[0mrandom\u001b[0m\u001b[0;34m.\u001b[0m\u001b[0mrandint\u001b[0m\u001b[0;34m(\u001b[0m\u001b[0;36m20\u001b[0m\u001b[0;34m,\u001b[0m \u001b[0msize\u001b[0m\u001b[0;34m=\u001b[0m\u001b[0;34m(\u001b[0m\u001b[0;36m3\u001b[0m\u001b[0;34m,\u001b[0m\u001b[0;36m4\u001b[0m\u001b[0;34m)\u001b[0m\u001b[0;34m)\u001b[0m\u001b[0;34m\u001b[0m\u001b[0;34m\u001b[0m\u001b[0m\n\u001b[0;32m----> 4\u001b[0;31m \u001b[0msum\u001b[0m \u001b[0;34m=\u001b[0m \u001b[0mm1\u001b[0m\u001b[0;34m+\u001b[0m\u001b[0mm2\u001b[0m\u001b[0;34m\u001b[0m\u001b[0;34m\u001b[0m\u001b[0m\n\u001b[0m",
            "\u001b[0;31mValueError\u001b[0m: operands could not be broadcast together with shapes (3,3) (3,4) "
          ]
        }
      ]
    },
    {
      "cell_type": "markdown",
      "source": [
        "We get this error because the shape of the matrix m1 and matrix m4 are different"
      ],
      "metadata": {
        "id": "KDQ-Q3dsAqTO"
      }
    },
    {
      "cell_type": "markdown",
      "source": [
        "**Matrix Subtraction**"
      ],
      "metadata": {
        "id": "zkaQRbNwA2tE"
      }
    },
    {
      "cell_type": "code",
      "source": [
        "# Creating two matrices\n",
        "A = np.array([[2,3],[4,5]])\n",
        "B = np.array([[6,7],[8,9]])\n",
        "\n",
        "diff = A-B"
      ],
      "metadata": {
        "id": "2VFh_IO_AmzM"
      },
      "execution_count": null,
      "outputs": []
    },
    {
      "cell_type": "code",
      "source": [
        "print(diff)"
      ],
      "metadata": {
        "colab": {
          "base_uri": "https://localhost:8080/"
        },
        "id": "ls-g-KYaBVal",
        "outputId": "3c1d51d9-5403-4109-a5bc-505d7740f8cd"
      },
      "execution_count": null,
      "outputs": [
        {
          "output_type": "stream",
          "name": "stdout",
          "text": [
            "[[-4 -4]\n",
            " [-4 -4]]\n"
          ]
        }
      ]
    },
    {
      "cell_type": "code",
      "source": [
        "# creating two matrices with random values\n",
        "mat1 = np.random.randint(10, size=(3,3))\n",
        "mat2 = np.random.randint(20, size=(3,3))\n"
      ],
      "metadata": {
        "id": "dCt_4IrfBWhY"
      },
      "execution_count": null,
      "outputs": []
    },
    {
      "cell_type": "code",
      "source": [
        "print(mat1)\n",
        "print(mat2)"
      ],
      "metadata": {
        "colab": {
          "base_uri": "https://localhost:8080/"
        },
        "id": "t6SHHOxXBcLL",
        "outputId": "b070b213-40b6-4b44-daef-62cb7b060346"
      },
      "execution_count": null,
      "outputs": [
        {
          "output_type": "stream",
          "name": "stdout",
          "text": [
            "[[8 2 3]\n",
            " [1 4 3]\n",
            " [6 6 0]]\n",
            "[[17  7 18]\n",
            " [12  4 13]\n",
            " [ 1  3  1]]\n"
          ]
        }
      ]
    },
    {
      "cell_type": "code",
      "source": [
        "d = np.subtract(mat1,mat2)\n",
        "print(d)"
      ],
      "metadata": {
        "colab": {
          "base_uri": "https://localhost:8080/"
        },
        "id": "FsvYwVRvBe-B",
        "outputId": "641d41e6-de91-4920-fea9-dfa21753bbed"
      },
      "execution_count": null,
      "outputs": [
        {
          "output_type": "stream",
          "name": "stdout",
          "text": [
            "[[ -9  -5 -15]\n",
            " [-11   0 -10]\n",
            " [  5   3  -1]]\n"
          ]
        }
      ]
    },
    {
      "cell_type": "markdown",
      "source": [
        "Multiplication of Matrix by a Scalar quantity"
      ],
      "metadata": {
        "id": "KIJ-OdhiDDq0"
      }
    },
    {
      "cell_type": "code",
      "source": [
        "x = 5\n",
        "y = np.random.randint(10, size=(4,4))\n",
        "print(y)\n",
        "prod = x*y"
      ],
      "metadata": {
        "colab": {
          "base_uri": "https://localhost:8080/"
        },
        "id": "fhcf3fAgBooc",
        "outputId": "862c6a97-97f0-4f0f-b25b-496791e01a95"
      },
      "execution_count": null,
      "outputs": [
        {
          "output_type": "stream",
          "name": "stdout",
          "text": [
            "[[6 3 7 1]\n",
            " [9 5 1 3]\n",
            " [6 5 5 3]\n",
            " [7 0 0 8]]\n"
          ]
        }
      ]
    },
    {
      "cell_type": "code",
      "source": [
        "print(prod)"
      ],
      "metadata": {
        "colab": {
          "base_uri": "https://localhost:8080/"
        },
        "id": "gE_AucH0DMwL",
        "outputId": "5825aed5-c005-4091-9825-682bf893231c"
      },
      "execution_count": null,
      "outputs": [
        {
          "output_type": "stream",
          "name": "stdout",
          "text": [
            "[[30 15 35  5]\n",
            " [45 25  5 15]\n",
            " [30 25 25 15]\n",
            " [35  0  0 40]]\n"
          ]
        }
      ]
    },
    {
      "cell_type": "code",
      "source": [
        "p = np.multiply(x,y)\n",
        "print(p)"
      ],
      "metadata": {
        "colab": {
          "base_uri": "https://localhost:8080/"
        },
        "id": "20dMNYjODg13",
        "outputId": "c2c48bca-a531-4855-945f-397baafe77bb"
      },
      "execution_count": null,
      "outputs": [
        {
          "output_type": "stream",
          "name": "stdout",
          "text": [
            "[[30 15 35  5]\n",
            " [45 25  5 15]\n",
            " [30 25 25 15]\n",
            " [35  0  0 40]]\n"
          ]
        }
      ]
    },
    {
      "cell_type": "markdown",
      "source": [
        "Multiplication of Two Matrices"
      ],
      "metadata": {
        "id": "Wbhk2SdFDyJ1"
      }
    },
    {
      "cell_type": "code",
      "source": [
        "# creating two matrices with random values\n",
        "mat1 = np.random.randint(10, size=(3,3))\n",
        "mat2 = np.random.randint(10, size=(3,4))"
      ],
      "metadata": {
        "id": "VHxrSM0aDv57"
      },
      "execution_count": null,
      "outputs": []
    },
    {
      "cell_type": "code",
      "source": [
        "print(mat1)\n",
        "print(mat2)"
      ],
      "metadata": {
        "colab": {
          "base_uri": "https://localhost:8080/"
        },
        "id": "2xq0DmtJEP55",
        "outputId": "3718dd95-2ef9-41b8-cca2-7dabc0bea78a"
      },
      "execution_count": null,
      "outputs": [
        {
          "output_type": "stream",
          "name": "stdout",
          "text": [
            "[[5 2 0]\n",
            " [2 3 5]\n",
            " [5 9 9]]\n",
            "[[5 3 4 8]\n",
            " [1 4 4 8]\n",
            " [5 8 8 5]]\n"
          ]
        }
      ]
    },
    {
      "cell_type": "code",
      "source": [
        "product = np.dot(mat1,mat2)\n",
        "print(product)"
      ],
      "metadata": {
        "colab": {
          "base_uri": "https://localhost:8080/"
        },
        "id": "yOSMKav2ESYi",
        "outputId": "b7659f7a-d2f4-4c9e-dc94-c03f48a613a4"
      },
      "execution_count": null,
      "outputs": [
        {
          "output_type": "stream",
          "name": "stdout",
          "text": [
            "[[ 27  23  28  56]\n",
            " [ 38  58  60  65]\n",
            " [ 79 123 128 157]]\n"
          ]
        }
      ]
    },
    {
      "cell_type": "code",
      "source": [
        "product.shape"
      ],
      "metadata": {
        "colab": {
          "base_uri": "https://localhost:8080/"
        },
        "id": "6Nj5OCCcEelU",
        "outputId": "87e3faa6-6ddf-4fb4-a909-c562414a281b"
      },
      "execution_count": null,
      "outputs": [
        {
          "output_type": "execute_result",
          "data": {
            "text/plain": [
              "(3, 4)"
            ]
          },
          "metadata": {},
          "execution_count": 57
        }
      ]
    },
    {
      "cell_type": "markdown",
      "source": [
        "Element wise Matrix Multiplication"
      ],
      "metadata": {
        "id": "0siPvIRLFd5G"
      }
    },
    {
      "cell_type": "code",
      "source": [
        "# creating two matrices with random values\n",
        "mat1 = np.random.randint(5, size=(3,3))\n",
        "mat2 = np.random.randint(5, size=(3,3))\n"
      ],
      "metadata": {
        "id": "WuKx7AugEjVJ"
      },
      "execution_count": null,
      "outputs": []
    },
    {
      "cell_type": "code",
      "source": [
        "print(mat1)\n",
        "print(mat2)"
      ],
      "metadata": {
        "colab": {
          "base_uri": "https://localhost:8080/"
        },
        "id": "3Ul9snKiFlDh",
        "outputId": "63dbbdcf-d7bd-4a73-fff8-bb448693b5c2"
      },
      "execution_count": null,
      "outputs": [
        {
          "output_type": "stream",
          "name": "stdout",
          "text": [
            "[[0 0 1]\n",
            " [1 1 3]\n",
            " [0 4 2]]\n",
            "[[1 1 2]\n",
            " [4 1 2]\n",
            " [2 3 3]]\n"
          ]
        }
      ]
    },
    {
      "cell_type": "code",
      "source": [
        "prod = np.multiply(mat1,mat2)\n",
        "print(prod)"
      ],
      "metadata": {
        "colab": {
          "base_uri": "https://localhost:8080/"
        },
        "id": "wRvaSdTXFwq5",
        "outputId": "c6535cba-5d86-4161-d70f-99e7c0f536ae"
      },
      "execution_count": null,
      "outputs": [
        {
          "output_type": "stream",
          "name": "stdout",
          "text": [
            "[[ 0  0  2]\n",
            " [ 4  1  6]\n",
            " [ 0 12  6]]\n"
          ]
        }
      ]
    }
  ]
}