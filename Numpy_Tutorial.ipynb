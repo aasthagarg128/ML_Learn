{
  "nbformat": 4,
  "nbformat_minor": 0,
  "metadata": {
    "colab": {
      "provenance": [],
      "authorship_tag": "ABX9TyO9jA0zvjVWj0CD8UhkvTTO",
      "include_colab_link": true
    },
    "kernelspec": {
      "name": "python3",
      "display_name": "Python 3"
    },
    "language_info": {
      "name": "python"
    }
  },
  "cells": [
    {
      "cell_type": "markdown",
      "metadata": {
        "id": "view-in-github",
        "colab_type": "text"
      },
      "source": [
        "<a href=\"https://colab.research.google.com/github/aasthagarg128/ML_Learn/blob/main/Numpy_Tutorial.ipynb\" target=\"_parent\"><img src=\"https://colab.research.google.com/assets/colab-badge.svg\" alt=\"Open In Colab\"/></a>"
      ]
    },
    {
      "cell_type": "markdown",
      "source": [
        "NumPy-Numerical  Python\n",
        "\n",
        "Advantages of NumPy Arrays:\n",
        "\n",
        "\n",
        "1.   Allows several Mathematical Operations\n",
        "2.   Faster Operations\n",
        "\n"
      ],
      "metadata": {
        "id": "nqiPAD1nYjAW"
      }
    },
    {
      "cell_type": "code",
      "execution_count": null,
      "metadata": {
        "id": "mLAFy8NaVChW"
      },
      "outputs": [],
      "source": [
        "import numpy as np"
      ]
    },
    {
      "cell_type": "markdown",
      "source": [
        "List VS NumPy- Time Taken"
      ],
      "metadata": {
        "id": "YGVbyDwAZXor"
      }
    },
    {
      "cell_type": "code",
      "source": [
        "from time import process_time"
      ],
      "metadata": {
        "id": "VrHxg9k2ZJod"
      },
      "execution_count": null,
      "outputs": []
    },
    {
      "cell_type": "markdown",
      "source": [
        "Time taken by a list"
      ],
      "metadata": {
        "id": "AXgILuF8ZpmS"
      }
    },
    {
      "cell_type": "code",
      "source": [
        "python_list=[i for i in range(10000)]  # create a list [0 1 2 3 ... 9999]\n",
        "\n",
        "start_time=process_time()\n",
        "\n",
        "python_list=[i+5 for i in python_list]   # create a list [0+5 1+5 2+5  3+5 ..... 9999+5]\n",
        "\n",
        "end_time=process_time()\n",
        "\n",
        "print(end_time-start_time)"
      ],
      "metadata": {
        "colab": {
          "base_uri": "https://localhost:8080/"
        },
        "id": "oMwf2R7bZj0I",
        "outputId": "1dc39012-d02f-4b8b-f6df-e07caf48f929"
      },
      "execution_count": null,
      "outputs": [
        {
          "output_type": "stream",
          "name": "stdout",
          "text": [
            "0.0010794310000008522\n"
          ]
        }
      ]
    },
    {
      "cell_type": "code",
      "source": [
        "np_array=np.array([i for i in range(10000)])\n",
        "\n",
        "start_time=process_time()\n",
        "np_array+=5\n",
        "end_time=process_time()\n",
        "\n",
        "print(end_time-start_time)"
      ],
      "metadata": {
        "colab": {
          "base_uri": "https://localhost:8080/"
        },
        "id": "h3M0TN1ma4JL",
        "outputId": "3ac17973-03b6-4373-fe76-1abefa36658b"
      },
      "execution_count": null,
      "outputs": [
        {
          "output_type": "stream",
          "name": "stdout",
          "text": [
            "0.0010103719999996486\n"
          ]
        }
      ]
    },
    {
      "cell_type": "markdown",
      "source": [
        "Numpy Array"
      ],
      "metadata": {
        "id": "M7c3lb8Db0zD"
      }
    },
    {
      "cell_type": "code",
      "source": [
        "# list\n",
        "list1 = [1,2,3,4,5]\n",
        "print(list1)\n",
        "type(list1)"
      ],
      "metadata": {
        "colab": {
          "base_uri": "https://localhost:8080/"
        },
        "id": "C5YCnidgcE2T",
        "outputId": "df3f0107-918c-4cef-8b94-1ea12c9105c5"
      },
      "execution_count": null,
      "outputs": [
        {
          "output_type": "stream",
          "name": "stdout",
          "text": [
            "[1, 2, 3, 4, 5]\n"
          ]
        },
        {
          "output_type": "execute_result",
          "data": {
            "text/plain": [
              "list"
            ]
          },
          "metadata": {},
          "execution_count": 7
        }
      ]
    },
    {
      "cell_type": "code",
      "source": [
        "# array using numpy\n",
        "arr=np.array([1,2,3,4,5])\n",
        "print(arr)\n",
        "type(arr)"
      ],
      "metadata": {
        "colab": {
          "base_uri": "https://localhost:8080/"
        },
        "id": "1OPoDz16b0aD",
        "outputId": "73680666-fffc-478f-be1b-51d401cb5cd4"
      },
      "execution_count": null,
      "outputs": [
        {
          "output_type": "stream",
          "name": "stdout",
          "text": [
            "[1 2 3 4 5]\n"
          ]
        },
        {
          "output_type": "execute_result",
          "data": {
            "text/plain": [
              "numpy.ndarray"
            ]
          },
          "metadata": {},
          "execution_count": 8
        }
      ]
    },
    {
      "cell_type": "code",
      "source": [
        "# create a 1D array\n",
        "a = np.array([1,2,3,4,5])\n",
        "print(a)"
      ],
      "metadata": {
        "colab": {
          "base_uri": "https://localhost:8080/"
        },
        "id": "IzpXo6Y3fyt0",
        "outputId": "4821054d-69f8-457a-d4ac-d42d0fe575f4"
      },
      "execution_count": null,
      "outputs": [
        {
          "output_type": "stream",
          "name": "stdout",
          "text": [
            "[1 2 3 4 5]\n"
          ]
        }
      ]
    },
    {
      "cell_type": "code",
      "source": [
        "a.shape   #provides the row and column"
      ],
      "metadata": {
        "colab": {
          "base_uri": "https://localhost:8080/"
        },
        "id": "gfBsCRCOf8qP",
        "outputId": "21398574-1f77-4273-ad5c-0077482457ef"
      },
      "execution_count": null,
      "outputs": [
        {
          "output_type": "execute_result",
          "data": {
            "text/plain": [
              "(5,)"
            ]
          },
          "metadata": {},
          "execution_count": 10
        }
      ]
    },
    {
      "cell_type": "code",
      "source": [
        "# create a 2D array\n",
        "b = np.array([(1,2,3,4),(5,6,7,8)])\n",
        "print(b)\n",
        "type(b)"
      ],
      "metadata": {
        "colab": {
          "base_uri": "https://localhost:8080/"
        },
        "id": "ClxO5Arkgfoy",
        "outputId": "d5f01509-3306-48a6-d31b-696bb57fdf3b"
      },
      "execution_count": null,
      "outputs": [
        {
          "output_type": "stream",
          "name": "stdout",
          "text": [
            "[[1 2 3 4]\n",
            " [5 6 7 8]]\n"
          ]
        },
        {
          "output_type": "execute_result",
          "data": {
            "text/plain": [
              "numpy.ndarray"
            ]
          },
          "metadata": {},
          "execution_count": 13
        }
      ]
    },
    {
      "cell_type": "code",
      "source": [
        "b.shape   #No.of row=2   No of column=4"
      ],
      "metadata": {
        "colab": {
          "base_uri": "https://localhost:8080/"
        },
        "id": "BERz_5aYg39R",
        "outputId": "f67900d3-2887-43c9-8ede-b0ff24651899"
      },
      "execution_count": null,
      "outputs": [
        {
          "output_type": "execute_result",
          "data": {
            "text/plain": [
              "(2, 4)"
            ]
          },
          "metadata": {},
          "execution_count": 14
        }
      ]
    },
    {
      "cell_type": "code",
      "source": [
        "c = np.array([(1,2,3,4),(5,6,7,8)],dtype=float)\n",
        "print(c)"
      ],
      "metadata": {
        "colab": {
          "base_uri": "https://localhost:8080/"
        },
        "id": "07QlEI5NhLxP",
        "outputId": "b2cda12d-1b1c-4bd0-f021-87d50decd23f"
      },
      "execution_count": null,
      "outputs": [
        {
          "output_type": "stream",
          "name": "stdout",
          "text": [
            "[[1. 2. 3. 4.]\n",
            " [5. 6. 7. 8.]]\n"
          ]
        }
      ]
    },
    {
      "cell_type": "markdown",
      "source": [
        "Initial Placeholders in numpy arrays"
      ],
      "metadata": {
        "id": "Gzjqu5Smh8D2"
      }
    },
    {
      "cell_type": "code",
      "source": [
        "#  create a numpy array of Zeros\n",
        "x=np.zeros((4,5))\n",
        "print(x)"
      ],
      "metadata": {
        "colab": {
          "base_uri": "https://localhost:8080/"
        },
        "id": "8wxxrzDTh-CR",
        "outputId": "a8450ce9-e88a-473c-b583-1f686df15a6a"
      },
      "execution_count": null,
      "outputs": [
        {
          "output_type": "stream",
          "name": "stdout",
          "text": [
            "[[0. 0. 0. 0. 0.]\n",
            " [0. 0. 0. 0. 0.]\n",
            " [0. 0. 0. 0. 0.]\n",
            " [0. 0. 0. 0. 0.]]\n"
          ]
        }
      ]
    },
    {
      "cell_type": "code",
      "source": [
        "#  create a numpy array of Ones\n",
        "y=np.ones((3,3))\n",
        "print(y)"
      ],
      "metadata": {
        "colab": {
          "base_uri": "https://localhost:8080/"
        },
        "id": "CPxeYmE5jD_N",
        "outputId": "795de38f-ebd8-4aa5-e074-db565713bf43"
      },
      "execution_count": null,
      "outputs": [
        {
          "output_type": "stream",
          "name": "stdout",
          "text": [
            "[[1. 1. 1.]\n",
            " [1. 1. 1.]\n",
            " [1. 1. 1.]]\n"
          ]
        }
      ]
    },
    {
      "cell_type": "code",
      "source": [
        "#  create a numpy array of a particular value\n",
        "z=np.full((3,4),9)\n",
        "print(z)"
      ],
      "metadata": {
        "colab": {
          "base_uri": "https://localhost:8080/"
        },
        "id": "XriAcbEajaIe",
        "outputId": "05e7eb41-3d59-46ba-a3ae-2cc7215e315b"
      },
      "execution_count": null,
      "outputs": [
        {
          "output_type": "stream",
          "name": "stdout",
          "text": [
            "[[9 9 9 9]\n",
            " [9 9 9 9]\n",
            " [9 9 9 9]]\n"
          ]
        }
      ]
    },
    {
      "cell_type": "code",
      "source": [
        "#  create an identity matrix\n",
        "i=np.eye(5)\n",
        "print(i)"
      ],
      "metadata": {
        "colab": {
          "base_uri": "https://localhost:8080/"
        },
        "id": "sopHiXP5jm5q",
        "outputId": "0dccf83b-4150-406d-e262-6dd90ca0d3a1"
      },
      "execution_count": null,
      "outputs": [
        {
          "output_type": "stream",
          "name": "stdout",
          "text": [
            "[[1. 0. 0. 0. 0.]\n",
            " [0. 1. 0. 0. 0.]\n",
            " [0. 0. 1. 0. 0.]\n",
            " [0. 0. 0. 1. 0.]\n",
            " [0. 0. 0. 0. 1.]]\n"
          ]
        }
      ]
    },
    {
      "cell_type": "code",
      "source": [
        "#  create an array with random values\n",
        "b = np.random.random((3,4))\n",
        "print(b)"
      ],
      "metadata": {
        "colab": {
          "base_uri": "https://localhost:8080/"
        },
        "id": "jPr0KywSj9Lj",
        "outputId": "c62d437c-df3d-4584-cb67-1d3387c3023e"
      },
      "execution_count": null,
      "outputs": [
        {
          "output_type": "stream",
          "name": "stdout",
          "text": [
            "[[0.09287729 0.7589569  0.39384916 0.46818741]\n",
            " [0.41717831 0.32331905 0.16172423 0.40082994]\n",
            " [0.51901169 0.97688689 0.93807129 0.1745272 ]]\n"
          ]
        }
      ]
    },
    {
      "cell_type": "code",
      "source": [
        "# create a random integer values array within a specific range\n",
        "c = np.random.randint(10,100,(3,5))   # range of integer--{ 10 to 100} & No. of row=3 No. of col=5\n",
        "print(c)"
      ],
      "metadata": {
        "colab": {
          "base_uri": "https://localhost:8080/"
        },
        "id": "Nq3spwnEkT0c",
        "outputId": "e0e9d6e4-3868-495c-dc51-4b12e724af46"
      },
      "execution_count": null,
      "outputs": [
        {
          "output_type": "stream",
          "name": "stdout",
          "text": [
            "[[13 78 62 79 18]\n",
            " [12 52 80 38 33]\n",
            " [86 69 52 85 33]]\n"
          ]
        }
      ]
    },
    {
      "cell_type": "code",
      "source": [
        "# array of evenly spaced values --> specifying the number of values required\n",
        "d=np.linspace(10,30,6)    # range={ 10 to 30}  &  values needed as output=6\n",
        "print(d)"
      ],
      "metadata": {
        "colab": {
          "base_uri": "https://localhost:8080/"
        },
        "id": "K_QJsyWOmnw9",
        "outputId": "6ee97b2a-7da8-487f-c352-cb02494f5c90"
      },
      "execution_count": null,
      "outputs": [
        {
          "output_type": "stream",
          "name": "stdout",
          "text": [
            "[10. 14. 18. 22. 26. 30.]\n"
          ]
        }
      ]
    },
    {
      "cell_type": "code",
      "source": [
        "# array of evenly spaced values --> specifying the step\n",
        "e=np.arange(10,30,4)    # range={ 10 to 30}  &   distance between outputs=4\n",
        "print(e)"
      ],
      "metadata": {
        "colab": {
          "base_uri": "https://localhost:8080/"
        },
        "id": "XZyLATqQnXN2",
        "outputId": "e2a625db-f10a-43a9-fb28-4530cc8278b8"
      },
      "execution_count": null,
      "outputs": [
        {
          "output_type": "stream",
          "name": "stdout",
          "text": [
            "[10 14 18 22 26]\n"
          ]
        }
      ]
    },
    {
      "cell_type": "code",
      "source": [
        "# convert a list to a numpy array\n",
        "list1=[10,20,20,30,30,40]\n",
        "\n",
        "arr=np.asarray(list1)\n",
        "print(arr)\n",
        "type(arr)"
      ],
      "metadata": {
        "colab": {
          "base_uri": "https://localhost:8080/"
        },
        "id": "cECqk_TYru_G",
        "outputId": "f2e99b48-591f-4f2a-97e0-7e8e5f326c33"
      },
      "execution_count": null,
      "outputs": [
        {
          "output_type": "stream",
          "name": "stdout",
          "text": [
            "[10 20 20 30 30 40]\n"
          ]
        },
        {
          "output_type": "execute_result",
          "data": {
            "text/plain": [
              "numpy.ndarray"
            ]
          },
          "metadata": {},
          "execution_count": 37
        }
      ]
    },
    {
      "cell_type": "markdown",
      "source": [
        "Analysing a numpy array"
      ],
      "metadata": {
        "id": "0wUstNRKsKP-"
      }
    },
    {
      "cell_type": "code",
      "source": [
        "c = np.random.randint(10,90,(5,5))\n",
        "print(c)"
      ],
      "metadata": {
        "colab": {
          "base_uri": "https://localhost:8080/"
        },
        "id": "CWmqnWlYsSOB",
        "outputId": "3c7f0f02-1dd7-415e-cd8c-8e6832fa24ed"
      },
      "execution_count": null,
      "outputs": [
        {
          "output_type": "stream",
          "name": "stdout",
          "text": [
            "[[85 74 43 32 16]\n",
            " [15 19 71 18 75]\n",
            " [69 76 68 64 30]\n",
            " [37 44 60 81 30]\n",
            " [30 29 67 33 12]]\n"
          ]
        }
      ]
    },
    {
      "cell_type": "code",
      "source": [
        "# array c dimensions\n",
        "c.shape"
      ],
      "metadata": {
        "colab": {
          "base_uri": "https://localhost:8080/"
        },
        "id": "LBseY1WhsgGc",
        "outputId": "3bf7b912-774c-465f-f1ab-d222a7695b96"
      },
      "execution_count": null,
      "outputs": [
        {
          "output_type": "execute_result",
          "data": {
            "text/plain": [
              "(5, 5)"
            ]
          },
          "metadata": {},
          "execution_count": 39
        }
      ]
    },
    {
      "cell_type": "code",
      "source": [
        "# number of dimensions\n",
        "c.ndim"
      ],
      "metadata": {
        "colab": {
          "base_uri": "https://localhost:8080/"
        },
        "id": "bfyiZ14NsvAd",
        "outputId": "91572f74-7bb6-46a7-ba21-6c2ca0810367"
      },
      "execution_count": null,
      "outputs": [
        {
          "output_type": "execute_result",
          "data": {
            "text/plain": [
              "2"
            ]
          },
          "metadata": {},
          "execution_count": 40
        }
      ]
    },
    {
      "cell_type": "code",
      "source": [
        "# number of elements in an array\n",
        "c.size"
      ],
      "metadata": {
        "colab": {
          "base_uri": "https://localhost:8080/"
        },
        "id": "opeRxHpcs3tb",
        "outputId": "71953ced-55ac-487e-cbf7-36aa82e3c828"
      },
      "execution_count": null,
      "outputs": [
        {
          "output_type": "execute_result",
          "data": {
            "text/plain": [
              "25"
            ]
          },
          "metadata": {},
          "execution_count": 43
        }
      ]
    },
    {
      "cell_type": "code",
      "source": [
        "# checking the data types of the values in the array\n",
        "c.dtype"
      ],
      "metadata": {
        "colab": {
          "base_uri": "https://localhost:8080/"
        },
        "id": "yNhYyUMHtIxG",
        "outputId": "f86816c1-1f23-4bf5-c2d9-e4399d8d22cd"
      },
      "execution_count": null,
      "outputs": [
        {
          "output_type": "execute_result",
          "data": {
            "text/plain": [
              "dtype('int64')"
            ]
          },
          "metadata": {},
          "execution_count": 44
        }
      ]
    },
    {
      "cell_type": "markdown",
      "source": [
        "Mathematical Operations on a np array"
      ],
      "metadata": {
        "id": "WQHTuobbtV8E"
      }
    },
    {
      "cell_type": "code",
      "source": [
        "list1=[1,2,3,4,5]\n",
        "list2=[6,7,8,9,10]\n",
        "\n",
        "print(list1+list2)   # concatenate or joins two list"
      ],
      "metadata": {
        "colab": {
          "base_uri": "https://localhost:8080/"
        },
        "id": "Rgg596gTtbWP",
        "outputId": "9401525c-2dbe-4be5-c7a4-b897f740d109"
      },
      "execution_count": null,
      "outputs": [
        {
          "output_type": "stream",
          "name": "stdout",
          "text": [
            "[1, 2, 3, 4, 5, 6, 7, 8, 9, 10]\n"
          ]
        }
      ]
    },
    {
      "cell_type": "code",
      "source": [
        "a = np.random.randint(1,20,(4,4))\n",
        "b = np.random.randint(20,50,(4,4))\n",
        "\n",
        "print(a)\n",
        "print(b)"
      ],
      "metadata": {
        "colab": {
          "base_uri": "https://localhost:8080/"
        },
        "id": "w256jTTbuGQL",
        "outputId": "c1d491b8-cb33-4bb6-e79e-4a1a2c6cb150"
      },
      "execution_count": null,
      "outputs": [
        {
          "output_type": "stream",
          "name": "stdout",
          "text": [
            "[[ 3 16 10 13]\n",
            " [ 8  6 19  4]\n",
            " [15 14  9  1]\n",
            " [ 3 18 11  7]]\n",
            "[[31 46 21 27]\n",
            " [30 29 31 36]\n",
            " [25 42 38 42]\n",
            " [30 47 36 48]]\n"
          ]
        }
      ]
    },
    {
      "cell_type": "code",
      "source": [
        "print(a+b)\n",
        "print(b-a)\n",
        "print(a*b)\n",
        "print(b/a)"
      ],
      "metadata": {
        "colab": {
          "base_uri": "https://localhost:8080/"
        },
        "id": "s7pegHkluylV",
        "outputId": "bddc1b5a-aaf2-4306-d74c-dedf298b7947"
      },
      "execution_count": null,
      "outputs": [
        {
          "output_type": "stream",
          "name": "stdout",
          "text": [
            "[[34 62 31 40]\n",
            " [38 35 50 40]\n",
            " [40 56 47 43]\n",
            " [33 65 47 55]]\n",
            "[[28 30 11 14]\n",
            " [22 23 12 32]\n",
            " [10 28 29 41]\n",
            " [27 29 25 41]]\n",
            "[[ 93 736 210 351]\n",
            " [240 174 589 144]\n",
            " [375 588 342  42]\n",
            " [ 90 846 396 336]]\n",
            "[[10.33333333  2.875       2.1         2.07692308]\n",
            " [ 3.75        4.83333333  1.63157895  9.        ]\n",
            " [ 1.66666667  3.          4.22222222 42.        ]\n",
            " [10.          2.61111111  3.27272727  6.85714286]]\n"
          ]
        }
      ]
    },
    {
      "cell_type": "code",
      "source": [
        "print(np.add(a,b))            # will give output equal to a+b\n",
        "print(np.subtract(b,a))       # will give output equal to b-a\n",
        "print(np.multiply(a,b))       # will give output equal to a*b\n",
        "print(np.divide(b,a))         # will give output equal to b/a"
      ],
      "metadata": {
        "colab": {
          "base_uri": "https://localhost:8080/"
        },
        "id": "jv8vrOrzvTJM",
        "outputId": "37b35396-345a-43fc-8275-33a7513f15f9"
      },
      "execution_count": null,
      "outputs": [
        {
          "output_type": "stream",
          "name": "stdout",
          "text": [
            "[[34 62 31 40]\n",
            " [38 35 50 40]\n",
            " [40 56 47 43]\n",
            " [33 65 47 55]]\n",
            "[[28 30 11 14]\n",
            " [22 23 12 32]\n",
            " [10 28 29 41]\n",
            " [27 29 25 41]]\n",
            "[[ 93 736 210 351]\n",
            " [240 174 589 144]\n",
            " [375 588 342  42]\n",
            " [ 90 846 396 336]]\n",
            "[[10.33333333  2.875       2.1         2.07692308]\n",
            " [ 3.75        4.83333333  1.63157895  9.        ]\n",
            " [ 1.66666667  3.          4.22222222 42.        ]\n",
            " [10.          2.61111111  3.27272727  6.85714286]]\n"
          ]
        }
      ]
    },
    {
      "cell_type": "markdown",
      "source": [
        "Array  Manipulation"
      ],
      "metadata": {
        "id": "W4dCj9DOwIFy"
      }
    },
    {
      "cell_type": "code",
      "source": [
        "arr=np.random.randint(1,10,(2,3))\n",
        "print(arr)\n",
        "arr.shape"
      ],
      "metadata": {
        "colab": {
          "base_uri": "https://localhost:8080/"
        },
        "id": "r7oigDb6wMxs",
        "outputId": "fcae3b00-9736-47d0-e18e-abae08f3b145"
      },
      "execution_count": null,
      "outputs": [
        {
          "output_type": "stream",
          "name": "stdout",
          "text": [
            "[[5 5 2]\n",
            " [1 5 8]]\n"
          ]
        },
        {
          "output_type": "execute_result",
          "data": {
            "text/plain": [
              "(2, 3)"
            ]
          },
          "metadata": {},
          "execution_count": 53
        }
      ]
    },
    {
      "cell_type": "code",
      "source": [
        "# Transpose\n",
        "trans=np.transpose(arr)\n",
        "print(trans)\n",
        "trans.shape"
      ],
      "metadata": {
        "colab": {
          "base_uri": "https://localhost:8080/"
        },
        "id": "viS9nhhrwaiH",
        "outputId": "6fe87e37-4e16-4655-c77c-3ae01320c5d5"
      },
      "execution_count": null,
      "outputs": [
        {
          "output_type": "stream",
          "name": "stdout",
          "text": [
            "[[5 1]\n",
            " [5 5]\n",
            " [2 8]]\n"
          ]
        },
        {
          "output_type": "execute_result",
          "data": {
            "text/plain": [
              "(3, 2)"
            ]
          },
          "metadata": {},
          "execution_count": 54
        }
      ]
    },
    {
      "cell_type": "code",
      "source": [
        "print(arr)\n",
        "trans2=arr.T\n",
        "print(trans2)\n",
        "trans2.shape"
      ],
      "metadata": {
        "colab": {
          "base_uri": "https://localhost:8080/"
        },
        "id": "x9vP3MuBy2Jo",
        "outputId": "6aa71770-6877-4a90-c444-f28a02ea49dd"
      },
      "execution_count": null,
      "outputs": [
        {
          "output_type": "stream",
          "name": "stdout",
          "text": [
            "[[5 5 2]\n",
            " [1 5 8]]\n",
            "[[5 1]\n",
            " [5 5]\n",
            " [2 8]]\n"
          ]
        },
        {
          "output_type": "execute_result",
          "data": {
            "text/plain": [
              "(3, 2)"
            ]
          },
          "metadata": {},
          "execution_count": 56
        }
      ]
    },
    {
      "cell_type": "code",
      "source": [
        "b = arr.reshape(3,2)\n",
        "print(b)\n",
        "b.shape"
      ],
      "metadata": {
        "colab": {
          "base_uri": "https://localhost:8080/"
        },
        "id": "018TFNn8zQcY",
        "outputId": "9345d25e-b71b-4e73-acad-cab64480c59b"
      },
      "execution_count": null,
      "outputs": [
        {
          "output_type": "stream",
          "name": "stdout",
          "text": [
            "[[5 5]\n",
            " [2 1]\n",
            " [5 8]]\n"
          ]
        },
        {
          "output_type": "execute_result",
          "data": {
            "text/plain": [
              "(3, 2)"
            ]
          },
          "metadata": {},
          "execution_count": 58
        }
      ]
    }
  ]
}