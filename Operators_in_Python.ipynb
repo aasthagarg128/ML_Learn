{
  "nbformat": 4,
  "nbformat_minor": 0,
  "metadata": {
    "colab": {
      "provenance": [],
      "authorship_tag": "ABX9TyOKT0kkLtVWlSoruYiVy22p",
      "include_colab_link": true
    },
    "kernelspec": {
      "name": "python3",
      "display_name": "Python 3"
    },
    "language_info": {
      "name": "python"
    }
  },
  "cells": [
    {
      "cell_type": "markdown",
      "metadata": {
        "id": "view-in-github",
        "colab_type": "text"
      },
      "source": [
        "<a href=\"https://colab.research.google.com/github/aasthagarg128/ML_Learn/blob/main/Operators_in_Python.ipynb\" target=\"_parent\"><img src=\"https://colab.research.google.com/assets/colab-badge.svg\" alt=\"Open In Colab\"/></a>"
      ]
    },
    {
      "cell_type": "markdown",
      "source": [
        "Operators in Python:\n",
        "\n",
        "1.   Arithmetic Operators\n",
        "2.   Assignment Operators\n",
        "3.   Comparison Operators\n",
        "4.   Logical Operators\n",
        "5.   Identity Operators\n",
        "6.   Membership Operators\n",
        "\n",
        "\n",
        "\n",
        "\n"
      ],
      "metadata": {
        "id": "MlUSTZRzPkm-"
      }
    },
    {
      "cell_type": "markdown",
      "source": [
        "1.  Arithmetic Operators"
      ],
      "metadata": {
        "id": "AV2b_W6MQEaN"
      }
    },
    {
      "cell_type": "code",
      "source": [
        "num_1=20\n",
        "num_2=10\n",
        "\n",
        "# addition\n",
        "sum = num_1 + num_2\n",
        "print('sum = ',sum)\n",
        "\n",
        "# subtraction\n",
        "diff = num_1 - num_2\n",
        "print('difference = ',diff)\n",
        "\n",
        "# multiplication\n",
        "prod = num_1 * num_2\n",
        "print('product = ',prod)\n",
        "\n",
        "# division\n",
        "div = num_1/ num_2\n",
        "print('division =',div)\n",
        "\n",
        "# exponent\n",
        "exp = num_1 ** num_2  #20^10\n",
        "print('exponent = ',exp)\n",
        "\n",
        "# modulus\n",
        "mod = num_1 % num_2\n",
        "print('remainder = ',mod)"
      ],
      "metadata": {
        "colab": {
          "base_uri": "https://localhost:8080/"
        },
        "id": "1ZUfIMNfPkLv",
        "outputId": "81396e69-6c80-43e7-bb40-a0c8b4e7e3a8"
      },
      "execution_count": null,
      "outputs": [
        {
          "output_type": "stream",
          "name": "stdout",
          "text": [
            "sum =  30\n",
            "difference =  10\n",
            "product =  200\n",
            "division = 2.0\n",
            "exponent =  10240000000000\n",
            "remainder =  0\n"
          ]
        }
      ]
    },
    {
      "cell_type": "markdown",
      "source": [
        "2.  Assignment Operators"
      ],
      "metadata": {
        "id": "q5IgGUoXR6-5"
      }
    },
    {
      "cell_type": "markdown",
      "source": [
        "1. +=\n",
        "\n",
        "2. -=\n",
        "\n",
        "3. *=\n",
        "\n",
        "4. **=\n",
        "\n",
        "5. /=\n",
        "\n",
        "6. %="
      ],
      "metadata": {
        "id": "TdXYdPSHSWgP"
      }
    },
    {
      "cell_type": "code",
      "source": [
        "a=5\n",
        "print(a)\n",
        "\n",
        "1.\n",
        "a=5\n",
        "a+=2\n",
        "print(a)\n",
        "\n",
        "2.\n",
        "a=5\n",
        "a-=2\n",
        "print(a)\n",
        "\n",
        "\n",
        "3.\n",
        "a=5\n",
        "a*=2\n",
        "print(a)\n",
        "\n",
        "4.\n",
        "a=5\n",
        "a**=2\n",
        "print(a)\n",
        "\n",
        "5.\n",
        "a=5\n",
        "a/=2\n",
        "print(a)\n",
        "\n",
        "\n",
        "6.\n",
        "a=5\n",
        "a%=2\n",
        "print(a)\n"
      ],
      "metadata": {
        "colab": {
          "base_uri": "https://localhost:8080/"
        },
        "id": "81FNP4pGSJnT",
        "outputId": "e7f3e336-2117-4f40-eed7-29e225638253"
      },
      "execution_count": null,
      "outputs": [
        {
          "output_type": "stream",
          "name": "stdout",
          "text": [
            "5\n",
            "7\n",
            "3\n",
            "10\n",
            "25\n",
            "2.5\n",
            "1\n"
          ]
        }
      ]
    },
    {
      "cell_type": "markdown",
      "source": [
        "3.  Comparison Operators"
      ],
      "metadata": {
        "id": "1zrDCeAeUEKW"
      }
    },
    {
      "cell_type": "code",
      "source": [
        "a=5\n",
        "b=10\n",
        "\n",
        "print(a == b)   # equal to\n",
        "print(a != b)   # not equal to\n",
        "print(a > b)    # greater than\n",
        "print(a < b)    # less than\n",
        "print(a >= b)   # greater than equal to\n",
        "print(a <= b)   # less than equal to"
      ],
      "metadata": {
        "colab": {
          "base_uri": "https://localhost:8080/"
        },
        "id": "8Nsdn-DVUVwc",
        "outputId": "7de377d9-6160-4ab1-d9b0-fa5a0128fede"
      },
      "execution_count": null,
      "outputs": [
        {
          "output_type": "stream",
          "name": "stdout",
          "text": [
            "False\n",
            "True\n",
            "False\n",
            "True\n",
            "False\n",
            "True\n"
          ]
        }
      ]
    },
    {
      "cell_type": "markdown",
      "source": [
        "4.  Logical Operators"
      ],
      "metadata": {
        "id": "kvO4d4bzUIog"
      }
    },
    {
      "cell_type": "markdown",
      "source": [
        "1.  and\n",
        "2.  or\n",
        "3.  not"
      ],
      "metadata": {
        "id": "mijfNE0fVQcR"
      }
    },
    {
      "cell_type": "code",
      "source": [
        "a=10\n",
        "\n",
        "print( a>20 and a>5 )\n",
        "print( a>20 or a>5 )\n",
        "print(not(a>8 and a>5))"
      ],
      "metadata": {
        "colab": {
          "base_uri": "https://localhost:8080/"
        },
        "id": "Tm06--fYVYfh",
        "outputId": "f49fbdc3-177e-4e82-c0bb-a944108943ab"
      },
      "execution_count": null,
      "outputs": [
        {
          "output_type": "stream",
          "name": "stdout",
          "text": [
            "False\n",
            "True\n",
            "False\n"
          ]
        }
      ]
    },
    {
      "cell_type": "markdown",
      "source": [
        "5.  Identity Operators"
      ],
      "metadata": {
        "id": "MXndJtdFUNsP"
      }
    },
    {
      "cell_type": "markdown",
      "source": [
        "1.  is\n",
        "2.  is not"
      ],
      "metadata": {
        "id": "bEYnHSVfXOJn"
      }
    },
    {
      "cell_type": "code",
      "source": [
        "x=5\n",
        "y=5\n",
        "\n",
        "print(x is y)\n",
        "print(x is not y)"
      ],
      "metadata": {
        "colab": {
          "base_uri": "https://localhost:8080/"
        },
        "id": "ezOlZ_w8WEmI",
        "outputId": "371bd446-7ab4-4446-e13f-27a7ed2a8044"
      },
      "execution_count": null,
      "outputs": [
        {
          "output_type": "stream",
          "name": "stdout",
          "text": [
            "True\n",
            "False\n"
          ]
        }
      ]
    },
    {
      "cell_type": "code",
      "source": [
        "x=5\n",
        "y=10\n",
        "\n",
        "print(x is y)\n",
        "print(x is not y)"
      ],
      "metadata": {
        "colab": {
          "base_uri": "https://localhost:8080/"
        },
        "id": "bzewfIItW9N0",
        "outputId": "59d2ceac-6dc1-4504-8b68-c763389b4831"
      },
      "execution_count": null,
      "outputs": [
        {
          "output_type": "stream",
          "name": "stdout",
          "text": [
            "False\n",
            "True\n"
          ]
        }
      ]
    },
    {
      "cell_type": "markdown",
      "source": [
        "6.  Membership Operators"
      ],
      "metadata": {
        "id": "XwNays1eURwE"
      }
    },
    {
      "cell_type": "markdown",
      "source": [
        "1.  in\n",
        "2.  not in"
      ],
      "metadata": {
        "id": "2IRkZ-GpXU7y"
      }
    },
    {
      "cell_type": "code",
      "source": [
        "a=5\n",
        "b=10\n",
        "\n",
        "c=[1,2,3,4,5]\n",
        "\n",
        "print(a in c)\n",
        "print(b in c)\n",
        "\n",
        "print(a not in c)\n",
        "print(b not in c)"
      ],
      "metadata": {
        "colab": {
          "base_uri": "https://localhost:8080/"
        },
        "id": "arByrVZOXaEK",
        "outputId": "1eaee04d-68e5-4370-d58e-74ac920fda46"
      },
      "execution_count": null,
      "outputs": [
        {
          "output_type": "stream",
          "name": "stdout",
          "text": [
            "True\n",
            "False\n",
            "False\n",
            "True\n"
          ]
        }
      ]
    }
  ]
}