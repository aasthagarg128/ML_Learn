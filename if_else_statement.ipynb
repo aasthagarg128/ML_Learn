{
  "nbformat": 4,
  "nbformat_minor": 0,
  "metadata": {
    "colab": {
      "provenance": [],
      "authorship_tag": "ABX9TyMKvBNW7PAyPItVnmlvnaxV",
      "include_colab_link": true
    },
    "kernelspec": {
      "name": "python3",
      "display_name": "Python 3"
    },
    "language_info": {
      "name": "python"
    }
  },
  "cells": [
    {
      "cell_type": "markdown",
      "metadata": {
        "id": "view-in-github",
        "colab_type": "text"
      },
      "source": [
        "<a href=\"https://colab.research.google.com/github/aasthagarg128/ML_Learn/blob/main/if_else_statement.ipynb\" target=\"_parent\"><img src=\"https://colab.research.google.com/assets/colab-badge.svg\" alt=\"Open In Colab\"/></a>"
      ]
    },
    {
      "cell_type": "markdown",
      "source": [
        "Simple if else statement"
      ],
      "metadata": {
        "id": "2znpqsiVYJ4w"
      }
    },
    {
      "cell_type": "code",
      "execution_count": null,
      "metadata": {
        "colab": {
          "base_uri": "https://localhost:8080/"
        },
        "id": "eO6nBrbzX_C4",
        "outputId": "df0075a3-20e8-40e6-cbc0-b08552c9e74b"
      },
      "outputs": [
        {
          "output_type": "stream",
          "name": "stdout",
          "text": [
            "b isthe greater number\n"
          ]
        }
      ],
      "source": [
        "a=30\n",
        "b=50\n",
        "\n",
        "if(a>b):\n",
        "  print('a is the greater number')\n",
        "else:\n",
        "  print('b is the greater number')"
      ]
    },
    {
      "cell_type": "code",
      "source": [
        "a = int(input('Enter the first number: '))\n",
        "b = int(input('Enter the second number: '))\n",
        "\n",
        "if(a>b):\n",
        "  print('First number is greater')\n",
        "else:\n",
        "  print('Second number is greater')"
      ],
      "metadata": {
        "colab": {
          "base_uri": "https://localhost:8080/"
        },
        "id": "_eyKy00IYuON",
        "outputId": "a7bcbba0-1079-4e33-8337-9d03a4e32e5c"
      },
      "execution_count": null,
      "outputs": [
        {
          "output_type": "stream",
          "name": "stdout",
          "text": [
            "Enter the first number: 34\n",
            "Enter the second number: 22\n",
            "First number is greater\n"
          ]
        }
      ]
    },
    {
      "cell_type": "markdown",
      "source": [
        "if elif else statement"
      ],
      "metadata": {
        "id": "Jlrvzf-wZT0l"
      }
    },
    {
      "cell_type": "code",
      "source": [
        "a=15\n",
        "b=25\n",
        "c=30\n",
        "\n",
        "\n",
        "if(b<a>c):\n",
        "  print('a is greatest number')\n",
        "elif(a<b>c):\n",
        "  print('b is greatest number')\n",
        "else:\n",
        "  print('c is greatest number')"
      ],
      "metadata": {
        "colab": {
          "base_uri": "https://localhost:8080/"
        },
        "id": "hbCciwdgZSaV",
        "outputId": "2b441a00-dc45-4186-df15-d41a5807e827"
      },
      "execution_count": null,
      "outputs": [
        {
          "output_type": "stream",
          "name": "stdout",
          "text": [
            "c is greatest number\n"
          ]
        }
      ]
    },
    {
      "cell_type": "code",
      "source": [
        "a=20\n",
        "b=40\n",
        "c=60\n",
        "\n",
        "if(a>b):\n",
        "  if(a>c):\n",
        "    print('a is greatest')\n",
        "  else:\n",
        "    print('c is greatest')\n",
        "else:\n",
        "  if(b>c):\n",
        "    print('b is greatest')\n",
        "  else:\n",
        "    print('c is greatest')\n"
      ],
      "metadata": {
        "colab": {
          "base_uri": "https://localhost:8080/"
        },
        "id": "U8wINH3ohnAG",
        "outputId": "9e4e5d22-cc23-437a-fb2b-16dcf29857ad"
      },
      "execution_count": null,
      "outputs": [
        {
          "output_type": "stream",
          "name": "stdout",
          "text": [
            "c is greatest\n"
          ]
        }
      ]
    }
  ]
}